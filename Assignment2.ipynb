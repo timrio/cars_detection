{
 "cells": [
  {
   "cell_type": "markdown",
   "metadata": {},
   "source": [
    "# VIC: Introduction to Visual Computing - 2021/22\n",
    "## Assignment 2\n",
    "\n",
    "**Instructor:** Maria Vakalopoulou\\\n",
    "**T.A.:** Joseph Boyd\\\n",
    "**Due Date:** February 25, 2022\n",
    "\n",
    "This is your second assignment in the computer vision course. This time you are to implement a system that outputs bounding boxes (bb) of cars in a dashcam videos. You are expected to submit your prediction to a Kaggle challenge at the following link, where you will also find the dataset and further instructions:\n",
    "\n",
    "https://www.kaggle.com/t/1df65691991d413ab190f6cc4d31b968\n",
    " \n",
    "**Scoring:**\n",
    "\n",
    " - Your work will be evaluated as usual (complexity of the solution, clean implementation, well documented) **PLUS** the best 5 will receive +1 for the grade of the assignement.\n",
    " \n",
    "**Deliverables:**\n",
    "\n",
    " - Your code that is a single python module (possibly with requirements.txt or with a dockerfile). See the example prenom_nom.py. It has to implement the same interface, if it fails to run, your solution is considered failing.\n",
    " - Your report. Short summary of your algorithm, motivation for the algorithm used, failing cases, code and results (~1 page).\n",
    " \n",
    "You should send your assignment by mail to maria.vakalopoulou@centralesupelec.fr, the name of the subject of the mail should be: VIC_Assignement2_name \n",
    "\n",
    "**Guidelines:**\n",
    "\n",
    "* Remember, you can pre-process the data (rgb2gray, resize, prefilter) however you like, but you are still expected to output bounding boxes for the raw images.\n",
    "\n",
    "* You are free to design your solution pipeline but NO DEEP LEARNING APPROACHES ARE ALLOWED. You should classic methods to complete this assignment!!\n",
    "\n",
    "* You cannot use external datasets in your final pipeline, including in the training of any machine learning models.\n",
    "\n",
    "* Even if your pipeline is not the most successful, you will be rewarded for being innovative/having a good implementation."
   ]
  },
  {
   "cell_type": "code",
   "execution_count": 6,
   "metadata": {},
   "outputs": [
    {
     "data": {
      "text/html": [
       "<div>\n",
       "<style scoped>\n",
       "    .dataframe tbody tr th:only-of-type {\n",
       "        vertical-align: middle;\n",
       "    }\n",
       "\n",
       "    .dataframe tbody tr th {\n",
       "        vertical-align: top;\n",
       "    }\n",
       "\n",
       "    .dataframe thead th {\n",
       "        text-align: right;\n",
       "    }\n",
       "</style>\n",
       "<table border=\"1\" class=\"dataframe\">\n",
       "  <thead>\n",
       "    <tr style=\"text-align: right;\">\n",
       "      <th></th>\n",
       "      <th>bounding_boxes</th>\n",
       "    </tr>\n",
       "    <tr>\n",
       "      <th>frame_id</th>\n",
       "      <th></th>\n",
       "    </tr>\n",
       "  </thead>\n",
       "  <tbody>\n",
       "    <tr>\n",
       "      <th>1</th>\n",
       "      <td>0 225 214 317 0 172 345 254 285 240 155 131 70...</td>\n",
       "    </tr>\n",
       "    <tr>\n",
       "      <th>2</th>\n",
       "      <td>0 254 190 293 0 169 338 271 276 238 160 137 70...</td>\n",
       "    </tr>\n",
       "    <tr>\n",
       "      <th>3</th>\n",
       "      <td>0 306 59 241 0 155 306 318 235 233 191 149 713...</td>\n",
       "    </tr>\n",
       "    <tr>\n",
       "      <th>4</th>\n",
       "      <td>0 143 239 298 164 223 240 172 721 293 94 76 57...</td>\n",
       "    </tr>\n",
       "    <tr>\n",
       "      <th>5</th>\n",
       "      <td>0 217 137 270 55 209 323 208 731 296 99 79 573...</td>\n",
       "    </tr>\n",
       "  </tbody>\n",
       "</table>\n",
       "</div>"
      ],
      "text/plain": [
       "                                             bounding_boxes\n",
       "frame_id                                                   \n",
       "1         0 225 214 317 0 172 345 254 285 240 155 131 70...\n",
       "2         0 254 190 293 0 169 338 271 276 238 160 137 70...\n",
       "3         0 306 59 241 0 155 306 318 235 233 191 149 713...\n",
       "4         0 143 239 298 164 223 240 172 721 293 94 76 57...\n",
       "5         0 217 137 270 55 209 323 208 731 296 99 79 573..."
      ]
     },
     "execution_count": 6,
     "metadata": {},
     "output_type": "execute_result"
    }
   ],
   "source": [
    "import pandas as pd\n",
    "\n",
    "df_ground_truth = pd.read_csv('./train.csv', index_col=0)\n",
    "df_ground_truth.head()"
   ]
  },
  {
   "cell_type": "code",
   "execution_count": 9,
   "metadata": {},
   "outputs": [
    {
     "data": {
      "application/vnd.jupyter.widget-view+json": {
       "model_id": "916ff618f7fb4825ac760a8400849dcb",
       "version_major": 2,
       "version_minor": 0
      },
      "text/plain": [
       "interactive(children=(IntSlider(value=1, description='frame_id', max=202, min=1), Output()), _dom_classes=('wi…"
      ]
     },
     "metadata": {},
     "output_type": "display_data"
    },
    {
     "data": {
      "text/plain": [
       "<function __main__.f_display(frame_id)>"
      ]
     },
     "execution_count": 9,
     "metadata": {},
     "output_type": "execute_result"
    }
   ],
   "source": [
    "import os\n",
    "import numpy as np\n",
    "from matplotlib import pyplot as plt\n",
    "from skimage.io import imread\n",
    "import matplotlib.patches as patches\n",
    "\n",
    "\n",
    "data_root = './train/'\n",
    "\n",
    "_N = 202 # number of frames\n",
    "\n",
    "def format_id(frame):\n",
    "    assert _N >= frame\n",
    "    return '%03d' % frame\n",
    "\n",
    "def read_frame(root, frame):\n",
    "    \"\"\"Read frames and create integer frame_id-s\"\"\"\n",
    "    assert _N >= frame\n",
    "    return imread(os.path.join(root, format_id(frame)+'.jpg'))\n",
    "\n",
    "def annotations_for_frame(solution, frame):\n",
    "    assert frame in solution.index\n",
    "    bbs = solution[solution.index == frame].bounding_boxes.values[0]\n",
    "    bbs = list(map(int, bbs.split(' ')))\n",
    "    return np.array_split(bbs, len(bbs) / 4)\n",
    "\n",
    "def show_annotation(solution, frame):\n",
    "    assert frame <= _N\n",
    "    img = read_frame(data_root, frame)\n",
    "    bbs = annotations_for_frame(solution, frame)\n",
    "\n",
    "    fig, ax = plt.subplots(figsize=(10, 8))\n",
    "\n",
    "    for x, y, dx, dy in bbs:\n",
    "        rect = patches.Rectangle((x, y), dx, dy, edgecolor='r', facecolor='none')\n",
    "        ax.add_patch(rect)\n",
    "\n",
    "    ax.imshow(img)\n",
    "    ax.set_title('Annotations for frame {}.'.format(frame))\n",
    "\n",
    "from ipywidgets import interact, widgets\n",
    "from IPython.display import display\n",
    "\n",
    "def f_display(frame_id):\n",
    "    show_annotation(df_ground_truth, frame_id)\n",
    "\n",
    "interact(f_display, frame_id=widgets.IntSlider(min=1, max=_N, step=1, value=1))"
   ]
  }
 ],
 "metadata": {
  "kernelspec": {
   "display_name": "Python 3 (ipykernel)",
   "language": "python",
   "name": "python3"
  },
  "language_info": {
   "codemirror_mode": {
    "name": "ipython",
    "version": 3
   },
   "file_extension": ".py",
   "mimetype": "text/x-python",
   "name": "python",
   "nbconvert_exporter": "python",
   "pygments_lexer": "ipython3",
   "version": "3.8.10"
  }
 },
 "nbformat": 4,
 "nbformat_minor": 2
}
