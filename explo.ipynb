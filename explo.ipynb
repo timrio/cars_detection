{
 "cells": [
  {
   "cell_type": "code",
   "execution_count": 85,
   "metadata": {},
   "outputs": [],
   "source": [
    "import os\n",
    "import numpy as np\n",
    "from matplotlib import pyplot as plt\n",
    "from skimage.io import imread\n",
    "import matplotlib.patches as patches\n",
    "import pandas as pd\n",
    "from tqdm import tqdm\n",
    "import cv2\n",
    "from xgboost import XGBClassifier\n",
    "from sklearn.svm import SVC\n",
    "from sklearn.metrics import accuracy_score\n",
    "from skimage import feature\n",
    "import pickle\n",
    "from sklearn.preprocessing import StandardScaler\n",
    "import random\n",
    "import pickle\n",
    "from sklearn.utils import resample"
   ]
  },
  {
   "cell_type": "code",
   "execution_count": 2,
   "metadata": {},
   "outputs": [],
   "source": [
    "from cars_detector.utils  import read_test_frame, read_frame\n",
    "from cars_detector.sampling import sampling\n",
    "from cars_detector.augmentation import random_augmentation\n",
    "from cars_detector.features import compute_features, compute_colors_features\n",
    "from cars_detector.makebox import non_max_suppression, box_otsu\n",
    "from cars_detector.splitpictures import pyramid\n",
    "from cars_detector.window_sliding import first_window_sliding, window_sliding_advanced\n",
    "from cars_detector.hard_negative_sampling import hard_negative_sampling\n",
    "from cars_detector.encoding import bounding_boxes_to_mask, run_length_encoding"
   ]
  },
  {
   "cell_type": "code",
   "execution_count": 116,
   "metadata": {},
   "outputs": [],
   "source": [
    "boxes_array = pd.read_pickle('boxes_and_array.pkl')"
   ]
  },
  {
   "cell_type": "code",
   "execution_count": null,
   "metadata": {},
   "outputs": [],
   "source": [
    "mask_dict = {}\n",
    "for h in range(1,203):\n",
    "    img = imread('./test/'+str(h).zfill(3)+'.jpg')\n",
    "    boxes = boxes_array.query('image==@h').boxes.values[0]\n",
    "    mask_img = np.zeros((img.shape[0],img.shape[1]))\n",
    "    for box in boxes:\n",
    "        mask_img[box[1]:box[1]+box[3],box[0]:box[0]+box[2]] = 1\n",
    "    mask_dict[h] = mask_img"
   ]
  },
  {
   "cell_type": "code",
   "execution_count": 27,
   "metadata": {},
   "outputs": [],
   "source": [
    "i = 110\n",
    "\n",
    "img = imread('./test/'+str(i).zfill(3)+'.jpg')\n",
    "\n",
    "search_radius = 1 # the 5th image it will be 8*5 = 40\n",
    "number_of_frames_to_look = 15\n",
    "boxes_to_keep = []\n",
    "freq_of_presence = 0.6\n",
    "\n",
    "\n",
    "\n",
    "boxes = boxes_array.query('image==@i').boxes.values[0]\n",
    "#boxes = non_max_suppression(np.array(boxes), overlapThresh=0)\n",
    "\n",
    "for box in boxes:\n",
    "    count = 0\n",
    "    number_of_remaining_frames = min(number_of_frames_to_look, 203-i)\n",
    "    min_number_of_presence = np.int32(number_of_remaining_frames*freq_of_presence)\n",
    "    for j in range(1,number_of_remaining_frames): # if not enough remaining images above\n",
    "        future_idx = i+j\n",
    "        mask_future = mask_dict[future_idx]\n",
    "        y_min, y_max = max(0, box[1]-j*search_radius), min(mask_future.shape[0], box[1]+box[3]+j*search_radius)\n",
    "        x_min, x_max = max(0, box[0]-j*search_radius), min(mask_future.shape[1], box[0]+box[2]+j*search_radius)\n",
    "        crop = mask_future[y_min:y_max,x_min:x_max]\n",
    "        if box[0] < 300 and box[1] < 300:\n",
    "            continue\n",
    "\n",
    "        \n",
    "        if np.sum(crop) < 1000: # almost nothing has been found\n",
    "            continue\n",
    "        else:\n",
    "            count += 1\n",
    "        if count >= min_number_of_presence: #otherwise it is a true box\n",
    "            boxes_to_keep.append(box)\n",
    "            break\n",
    "\n",
    "\n",
    "fig, ax = plt.subplots(figsize=(10, 8))\n",
    "for x, y, dx, dy in boxes_to_keep:\n",
    "\n",
    "    rect = patches.Rectangle((x, y), dx, dy, edgecolor='r', facecolor='none')\n",
    "    ax.add_patch(rect)\n",
    "\n",
    "ax.imshow(img)\n",
    "        \n",
    "\n",
    "\n",
    "        \n",
    "    "
   ]
  }
 ],
 "metadata": {
  "interpreter": {
   "hash": "fa07b778e7732675983f5142c1af79c1d6ef30661fc6e6ebffd50a980997a390"
  },
  "kernelspec": {
   "display_name": "Python 3.8.10 64-bit ('venv': venv)",
   "language": "python",
   "name": "python3"
  },
  "language_info": {
   "codemirror_mode": {
    "name": "ipython",
    "version": 3
   },
   "file_extension": ".py",
   "mimetype": "text/x-python",
   "name": "python",
   "nbconvert_exporter": "python",
   "pygments_lexer": "ipython3",
   "version": "3.8.10"
  },
  "orig_nbformat": 4
 },
 "nbformat": 4,
 "nbformat_minor": 2
}
